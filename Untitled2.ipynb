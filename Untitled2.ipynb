{
  "nbformat": 4,
  "nbformat_minor": 0,
  "metadata": {
    "colab": {
      "name": "Untitled2.ipynb",
      "provenance": [],
      "collapsed_sections": [],
      "authorship_tag": "ABX9TyMWmyqdlAR5YdZ+6NBwsIkH",
      "include_colab_link": true
    },
    "kernelspec": {
      "name": "python3",
      "display_name": "Python 3"
    }
  },
  "cells": [
    {
      "cell_type": "markdown",
      "metadata": {
        "id": "view-in-github",
        "colab_type": "text"
      },
      "source": [
        "<a href=\"https://colab.research.google.com/github/newsk4/22/blob/master/Untitled2.ipynb\" target=\"_parent\"><img src=\"https://colab.research.google.com/assets/colab-badge.svg\" alt=\"Open In Colab\"/></a>"
      ]
    },
    {
      "cell_type": "code",
      "metadata": {
        "id": "W0jYjb8WMUVx",
        "colab_type": "code",
        "colab": {}
      },
      "source": [
        "import torch\n",
        "import torch.nn as nn\n",
        "import torch.nn.functional as F\n",
        "import numpy as np\n",
        "import matplotlib.pyplot as plt\n",
        "from torch.optim.lr_scheduler import StepLR\n",
        "import cv2\n",
        "import os\n",
        "from tqdm import tqdm\n",
        "from PIL import Image\n",
        "import pandas as pd\n",
        "from scipy.stats import mode \n",
        "\n",
        "from torchvision.utils import save_image"
      ],
      "execution_count": 0,
      "outputs": []
    },
    {
      "cell_type": "code",
      "metadata": {
        "id": "GlaOjb_kPFIH",
        "colab_type": "code",
        "outputId": "bb051fc9-3f2d-424a-ad24-778f5c0682e8",
        "colab": {
          "base_uri": "https://localhost:8080/",
          "height": 128
        }
      },
      "source": [
        "from google.colab import drive\n",
        "drive.mount('gdrive')"
      ],
      "execution_count": 2,
      "outputs": [
        {
          "output_type": "stream",
          "text": [
            "Go to this URL in a browser: https://accounts.google.com/o/oauth2/auth?client_id=947318989803-6bn6qk8qdgf4n4g3pfee6491hc0brc4i.apps.googleusercontent.com&redirect_uri=urn%3aietf%3awg%3aoauth%3a2.0%3aoob&response_type=code&scope=email%20https%3a%2f%2fwww.googleapis.com%2fauth%2fdocs.test%20https%3a%2f%2fwww.googleapis.com%2fauth%2fdrive%20https%3a%2f%2fwww.googleapis.com%2fauth%2fdrive.photos.readonly%20https%3a%2f%2fwww.googleapis.com%2fauth%2fpeopleapi.readonly\n",
            "\n",
            "Enter your authorization code:\n",
            "··········\n",
            "Mounted at gdrive\n"
          ],
          "name": "stdout"
        }
      ]
    },
    {
      "cell_type": "code",
      "metadata": {
        "id": "Qo8byeorMVZY",
        "colab_type": "code",
        "outputId": "623a6701-ce1a-424c-9b44-9492a4f3bee7",
        "colab": {
          "base_uri": "https://localhost:8080/",
          "height": 302
        }
      },
      "source": [
        "# def loader(training_path, segmented_path, batch_size, h=320, w=480):\n",
        "    \n",
        "    h=320 \n",
        "    w=480\n",
        "\n",
        "    batch_size='all'\n",
        "    training_path='/content/gdrive/My Drive/drone/images/'\n",
        "\n",
        "    segmented_path='/content/gdrive/My Drive/drone/label/'\n",
        "    url = '/content/gdrive/My Drive/drone/class_dict.csv'\n",
        "    class_data = pd.read_csv(url, sep=' *, *')\n",
        "\n",
        "\n",
        "    # \n",
        "    rgb_val = class_data.to_numpy()[:,1:4]\n",
        "    rgb_label = np.arange(0,len(rgb_val)).tolist()\n",
        "\n",
        "    # filenames_t = os.listdir(training_path)\n",
        "    # total_files_t = len(filenames_t)\n",
        "    \n",
        "    filenames_s = os.listdir(segmented_path)\n",
        "    total_files_s = len(filenames_s)\n",
        "    \n",
        "    # assert(total_files_t == total_files_s)\n",
        "    \n",
        "    # if str(batch_size).lower() == 'all':\n",
        "    #     batch_size = total_files_s\n",
        "    \n",
        "\n",
        "    labels = []\n",
        "    for jj in range(total_files_s):\n",
        "        \n",
        "        # Reading semantic image\n",
        "        img = Image.open(segmented_path + filenames_s[jj])\n",
        "        img = np.array(img)\n",
        "       \n",
        "        img_label=[]\n",
        "        for ii in range(h):\n",
        "            temp = []                \n",
        "            for jj in range(w):\n",
        "                rgb_label_index_ls = np.argwhere(rgb_val == img[jj][ii])   \n",
        "                rgb_labeling, count = mode(rgb_label_index_ls[:,0])\n",
        "                temp.append(rgb_labeling[0])\n",
        "            img_label.append(temp)                \n",
        "            del temp\n",
        "        labels.append(img_label)\n",
        "        labels=np.array(labels)\n",
        "        labels=np.squeeze(labels, axis=0)\n",
        "\n",
        "        ## 여기까지 만든 labels를 png로 뽑아내는 과정이 에러가 나네요. \n",
        "\n",
        "                      \n",
        "        #img_name=filenames_s[jj]\n",
        "        new_image_path= \"%s%s_augmented.png\" %(segmented_path,'img_name')\n",
        "\n",
        "        cv2.imwrite(new_image_path, labels) # save transformed image to path   \n",
        "        assert(1!=1)\n",
        "        im = Image.fromarray(labels)\n",
        "        print(im)\n",
        "        assert(1!=1)\n",
        "        im.save(\"/content/gdrive/My Drive/drone/label/your_file.png\")\n",
        "\n",
        "        #save_image(labels, os.path.join(segmented_path, 'label-{}.png'.format(filenames_s[jj])))   \n",
        "        assert(1!=1) "
      ],
      "execution_count": 24,
      "outputs": [
        {
          "output_type": "stream",
          "text": [
            "/usr/local/lib/python3.6/dist-packages/ipykernel_launcher.py:10: ParserWarning: Falling back to the 'python' engine because the 'c' engine does not support regex separators (separators > 1 char and different from '\\s+' are interpreted as regex); you can avoid this warning by specifying engine='python'.\n",
            "  # Remove the CWD from sys.path while we load stuff.\n"
          ],
          "name": "stderr"
        },
        {
          "output_type": "error",
          "ename": "AssertionError",
          "evalue": "ignored",
          "traceback": [
            "\u001b[0;31m---------------------------------------------------------------------------\u001b[0m",
            "\u001b[0;31mAssertionError\u001b[0m                            Traceback (most recent call last)",
            "\u001b[0;32m<ipython-input-24-d2ea7963d181>\u001b[0m in \u001b[0;36m<module>\u001b[0;34m()\u001b[0m\n\u001b[1;32m     51\u001b[0m \u001b[0;34m\u001b[0m\u001b[0m\n\u001b[1;32m     52\u001b[0m     \u001b[0mcv2\u001b[0m\u001b[0;34m.\u001b[0m\u001b[0mimwrite\u001b[0m\u001b[0;34m(\u001b[0m\u001b[0mnew_image_path\u001b[0m\u001b[0;34m,\u001b[0m \u001b[0mlabels\u001b[0m\u001b[0;34m)\u001b[0m \u001b[0;31m# save transformed image to path\u001b[0m\u001b[0;34m\u001b[0m\u001b[0;34m\u001b[0m\u001b[0m\n\u001b[0;32m---> 53\u001b[0;31m     \u001b[0;32massert\u001b[0m\u001b[0;34m(\u001b[0m\u001b[0;36m1\u001b[0m\u001b[0;34m!=\u001b[0m\u001b[0;36m1\u001b[0m\u001b[0;34m)\u001b[0m\u001b[0;34m\u001b[0m\u001b[0;34m\u001b[0m\u001b[0m\n\u001b[0m\u001b[1;32m     54\u001b[0m     \u001b[0mim\u001b[0m \u001b[0;34m=\u001b[0m \u001b[0mImage\u001b[0m\u001b[0;34m.\u001b[0m\u001b[0mfromarray\u001b[0m\u001b[0;34m(\u001b[0m\u001b[0mlabels\u001b[0m\u001b[0;34m)\u001b[0m\u001b[0;34m\u001b[0m\u001b[0;34m\u001b[0m\u001b[0m\n\u001b[1;32m     55\u001b[0m     \u001b[0mprint\u001b[0m\u001b[0;34m(\u001b[0m\u001b[0mim\u001b[0m\u001b[0;34m)\u001b[0m\u001b[0;34m\u001b[0m\u001b[0;34m\u001b[0m\u001b[0m\n",
            "\u001b[0;31mAssertionError\u001b[0m: "
          ]
        }
      ]
    }
  ]
}